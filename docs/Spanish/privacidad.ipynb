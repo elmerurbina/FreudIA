{
 "cells": [
  {
   "cell_type": "markdown",
   "id": "70ca35c085883e5f",
   "metadata": {},
   "source": [
    "# Política de Privacidad\n",
    "\n",
    "En **Freud IA**, tu privacidad es de suma importancia. Nos comprometemos a proteger los datos personales de nuestros usuarios y a garantizar un entorno seguro para la interacción con nuestra plataforma. Esta política de privacidad describe cómo recopilamos, usamos y protegemos la información personal que proporcionas al usar nuestros servicios.\n",
    "\n",
    "## 1. Recopilación de Datos\n",
    "Solo recopilamos la información necesaria para ofrecer nuestros servicios de manera eficiente. Los datos que recopilamos incluyen:\n",
    "\n",
    "- **Información personal**: nombre, correo electrónico, edad, género, entre otros.\n",
    "- **Información de uso**: registros de actividad en la plataforma, preferencias de los usuarios, interacciones con los recursos de salud mental.\n",
    "- **Información técnica**: dirección IP, tipo de dispositivo, ubicación geográfica, sistema operativo, y otra información relacionada con el acceso a la plataforma.\n",
    "\n",
    "## 2. Protección y Seguridad de los Datos\n",
    "Tus datos están protegidos mediante encriptación de extremo a extremo en nuestra base de datos PostgreSQL, lo que garantiza que solo personal autorizado pueda acceder a ellos. Utilizamos medidas de seguridad avanzadas para prevenir accesos no autorizados, alteraciones, pérdidas o divulgación de tus datos.\n",
    "\n",
    "Además, nos aseguramos de que todos nuestros colaboradores y servicios externos (como proveedores de servicios de alojamiento y análisis) cumplan con los estándares de seguridad necesarios.\n",
    "\n",
    "## 3. No Compartimos Datos con Terceros\n",
    "Nos comprometemos a no compartir, vender ni ceder los datos personales de nuestros usuarios a terceros, salvo en los siguientes casos:\n",
    "\n",
    "- **Proveedores de servicios**: podemos compartir datos con proveedores de servicios que nos ayudan a operar la plataforma (por ejemplo, servicios de alojamiento, análisis y marketing). Estos proveedores están sujetos a acuerdos de confidencialidad.\n",
    "- **Obligaciones legales**: en caso de que sea requerido por la ley o por una orden judicial, podemos divulgar tus datos personales para cumplir con nuestras obligaciones legales.\n",
    "\n",
    "## 4. Acceso Sostenible\n",
    "Al utilizar **Freud IA**, contribuyes a reducir tu huella de carbono al evitar la necesidad de transportarte físicamente a un centro de salud. Nuestra plataforma está diseñada para ofrecer un acceso accesible y eficiente a los recursos psicológicos desde la comodidad de tu hogar, promoviendo la sostenibilidad.\n",
    "\n",
    "## 5. Derechos del Usuario\n",
    "Tienes derecho a acceder, rectificar o eliminar tus datos personales en cualquier momento. Puedes hacerlo de las siguientes maneras:\n",
    "\n",
    "- **Acceso**: Puedes solicitar una copia de los datos personales que tenemos sobre ti.\n",
    "- **Rectificación**: Si alguno de tus datos personales es incorrecto o está desactualizado, puedes corregirlo.\n",
    "- **Eliminación**: Puedes solicitar la eliminación de tus datos en cualquier momento, sujeto a nuestras políticas y restricciones legales.\n",
    "\n",
    "Para ejercer estos derechos, por favor contacta a nuestro equipo de soporte a través de los canales disponibles en la plataforma.\n",
    "\n",
    "## 6. Modificaciones\n",
    "Nos reservamos el derecho de modificar esta política de privacidad para mejorar la seguridad y el servicio a nuestros usuarios. Cualquier cambio será publicado en esta sección y será efectivo de inmediato. Recomendamos que revises periódicamente esta política para estar informado de cualquier actualización.\n",
    "\n",
    "## 7. Uso de Cookies\n",
    "**Freud IA** utiliza cookies para mejorar la experiencia de usuario y optimizar el rendimiento de la plataforma. Las cookies son pequeños archivos que se almacenan en tu dispositivo y nos permiten recordar tus preferencias y personalizar el servicio. Puedes gestionar la configuración de cookies desde tu navegador.\n",
    "\n",
    "## 8. Retención de Datos\n",
    "Retenemos tus datos personales durante el tiempo que sea necesario para cumplir con los fines descritos en esta política de privacidad o hasta que elimines tu cuenta. Después de este período, tus datos serán eliminados de forma segura.\n",
    "\n",
    "## 9. Transferencia Internacional de Datos\n",
    "En caso de que se realicen transferencias de tus datos a otros países, garantizamos que se aplicarán las medidas de seguridad adecuadas para proteger tus derechos y privacidad. Nos aseguramos de que cualquier transferencia cumpla con las leyes de protección de datos aplicables.\n",
    "\n",
    "## 10. Contacto\n",
    "Si tienes alguna pregunta o inquietud sobre nuestra política de privacidad o cómo manejamos tus datos, no dudes en contactarnos a través de los canales proporcionados en la plataforma. Estamos aquí para ayudarte a proteger tu información.\n",
    "\n",
    "**Freud IA** se compromete a mantener tus datos seguros y a respetar tu privacidad. Al utilizar nuestros servicios, aceptas esta política de privacidad y nos confías tu información personal, la cual manejaremos con el mayor cuidado y responsabilidad.\n"
   ]
  }
 ],
 "metadata": {
  "kernelspec": {
   "display_name": "Python 3 (ipykernel)",
   "language": "python",
   "name": "python3"
  },
  "language_info": {
   "codemirror_mode": {
    "name": "ipython",
    "version": 3
   },
   "file_extension": ".py",
   "mimetype": "text/x-python",
   "name": "python",
   "nbconvert_exporter": "python",
   "pygments_lexer": "ipython3",
   "version": "3.12.6"
  }
 },
 "nbformat": 4,
 "nbformat_minor": 5
}
