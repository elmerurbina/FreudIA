{
 "cells": [
  {
   "cell_type": "markdown",
   "id": "60ee4cccaf4af32d",
   "metadata": {},
   "source": [
    "# Términos y Condiciones de Uso\n",
    "\n",
    "Bienvenido a **Freud IA**, una plataforma dedicada a ofrecer herramientas de salud mental basadas en inteligencia artificial. Al acceder y utilizar nuestros servicios, usted acepta los siguientes términos y condiciones:\n",
    "\n",
    "## 1. Propósito del Servicio\n",
    "Freud IA proporciona acceso a recursos psicológicos y promueve el bienestar emocional de los usuarios. Nuestro objetivo es brindar herramientas efectivas para la salud mental, aprovechando el poder de la inteligencia artificial para proporcionar asesoramiento y apoyo.\n",
    "\n",
    "## 2. Uso Responsable\n",
    "Los usuarios deben utilizar la plataforma de manera ética y respetuosa. Esto incluye no realizar actividades que puedan comprometer la seguridad, el bienestar o la integridad de otros usuarios. El uso indebido de la plataforma puede resultar en la suspensión o eliminación de la cuenta.\n",
    "\n",
    "## 3. Colaboraciones\n",
    "Freud IA colabora con clínicas, proveedores de seguros, farmacias y psicólogos certificados. Estas colaboraciones nos permiten ofrecer a los usuarios una experiencia más completa y accesible en su camino hacia el bienestar emocional.\n",
    "\n",
    "## 4. Datos Personales y Seguridad\n",
    "La información de los usuarios está protegida mediante encriptación y medidas de seguridad de alto nivel. Nos comprometemos a proteger su privacidad y garantizar que sus datos personales solo se utilicen para los fines establecidos en nuestra política de privacidad.\n",
    "\n",
    "## 5. Uso Sostenible\n",
    "Al acceder a los recursos psicológicos de **Freud IA**, contribuye a la sostenibilidad al evitar la necesidad de transportarse físicamente a un centro de salud. Esto reduce la huella de carbono, promoviendo una opción más ecológica y accesible para el cuidado emocional.\n",
    "\n",
    "## 6. Responsabilidad Económica y Social\n",
    "Freud IA se compromete con la sostenibilidad financiera y social. Trabajamos para garantizar que nuestras herramientas sean accesibles para una amplia audiencia, incluyendo a aquellos con recursos limitados. Además, nos aseguramos de que los profesionales con los que trabajamos estén comprometidos con prácticas éticas y responsables.\n",
    "\n",
    "## 7. Responsabilidad de los Usuarios\n",
    "Los usuarios son responsables de las decisiones tomadas en base a la información y herramientas proporcionadas por **Freud IA**. Las recomendaciones ofrecidas por nuestra plataforma están destinadas a complementar, no reemplazar, el diagnóstico o tratamiento de un profesional de salud mental.\n",
    "\n",
    "## 8. Propiedad Intelectual\n",
    "Todo el contenido proporcionado en Freud IA, incluyendo pero no limitado a textos, imágenes, videos y código, es propiedad de **Freud IA** o de nuestros socios. El uso no autorizado de este contenido está prohibido.\n",
    "\n",
    "## 9. Modificaciones de los Términos\n",
    "**Freud IA** se reserva el derecho de modificar estos términos y condiciones en cualquier momento. Los cambios serán notificados a los usuarios y estarán disponibles en esta sección. Se recomienda revisar periódicamente los términos.\n",
    "\n",
    "## 10. Terminación de la Cuenta\n",
    "**Freud IA** puede suspender o terminar el acceso de un usuario a la plataforma en caso de violaciones de estos términos. Si se termina su cuenta, perderá el acceso a los servicios y recursos proporcionados por **Freud IA**.\n",
    "\n",
    "## 11. Limitación de Responsabilidad\n",
    "En la medida en que lo permita la ley, **Freud IA** no será responsable de los daños directos o indirectos que puedan surgir como resultado del uso de la plataforma. Los usuarios son responsables de las consecuencias de su uso.\n",
    "\n",
    "## 12. Legislación Aplicable\n",
    "Estos términos y condiciones estarán regidos e interpretados de acuerdo con las leyes de la jurisdicción correspondiente. Cualquier disputa relacionada con el uso de la plataforma será resuelta por los tribunales competentes.\n",
    "\n",
    "**Si tiene alguna pregunta o inquietud sobre nuestros términos y condiciones, no dude en ponerse en contacto con nuestro equipo de soporte.**\n"
   ]
  }
 ],
 "metadata": {
  "kernelspec": {
   "display_name": "Python 3 (ipykernel)",
   "language": "python",
   "name": "python3"
  },
  "language_info": {
   "codemirror_mode": {
    "name": "ipython",
    "version": 3
   },
   "file_extension": ".py",
   "mimetype": "text/x-python",
   "name": "python",
   "nbconvert_exporter": "python",
   "pygments_lexer": "ipython3",
   "version": "3.12.6"
  }
 },
 "nbformat": 4,
 "nbformat_minor": 5
}
